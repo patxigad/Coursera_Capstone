{
 "cells": [
  {
   "cell_type": "markdown",
   "metadata": {},
   "source": [
    "# Working with geopandas and folium\n",
    "**Rick Debbout**\n",
    "### This notebook needs to be cloned or downloaded from this [github](https://github.com/debboutr/SDMG) repository to work with the data\n",
    "\n",
    "\n",
    "### Download the data, [**here**](https://www.dropbox.com/sh/dzc4b5hsn0dc9vf/AABrX5NoR6W-gakT3Wbdmxo9a?dl=1 \"Download\")\n",
    "\n",
    "*  **For help setting up the environment with Anaconda, click** [**here.**](https://anaconda.org/debboutr/environmentsetup/notebook)\n",
    "* **contact me with  problems** <debboutr@gmail.com>"
   ]
  },
  {
   "cell_type": "code",
   "execution_count": null,
   "metadata": {
    "collapsed": true
   },
   "outputs": [],
   "source": [
    "# Point to where you have extracted the data\n",
    "DL_dir='/home/rick/Downloads/SpatialData' #change this string to the location of the extracted download directory"
   ]
  },
  {
   "cell_type": "code",
   "execution_count": null,
   "metadata": {
    "collapsed": false
   },
   "outputs": [],
   "source": [
    "# import packages\n",
    "from IPython.display import Image, HTML\n",
    "% matplotlib inline\n",
    "import os\n",
    "import folium\n",
    "import pandas as pd\n",
    "import geopandas as gpd\n",
    "%cd SDMG\n",
    "from StreamCat_functions import findUpstreamNpy"
   ]
  },
  {
   "cell_type": "markdown",
   "metadata": {},
   "source": [
    "# Run the next cell for the map, below we will step through the code"
   ]
  },
  {
   "cell_type": "code",
   "execution_count": null,
   "metadata": {
    "collapsed": false
   },
   "outputs": [],
   "source": [
    "def color(pct):\n",
    "    if pct <= 50:\n",
    "        col=('green','ok')\n",
    "    elif 50 < pct <= 75:\n",
    "        col=('blue','remove')\n",
    "    elif pct > 75:\n",
    "        col=('darkred','ban-circle')\n",
    "    return col  \n",
    "if not os.path.exists(\"%s/lks.json\" % DL_dir):\n",
    "    zone = '16'\n",
    "    lakes = gpd.GeoDataFrame.from_file('%s/NHDPlus%s/NHDWaterbodies.shp' % (DL_dir, zone)).to_crs({'init' :'epsg:5070'})\n",
    "    cats = gpd.GeoDataFrame.from_file('%s/NHDPlus%s/NHDCatchment.shp' % (DL_dir, zone)).to_crs({'init' :'epsg:5070'}) \n",
    "    lookup = pd.read_csv('%s/lookupCOMS%s.csv' % (DL_dir, zone))\n",
    "    lks = gpd.GeoDataFrame()\n",
    "    bsn = gpd.GeoDataFrame()\n",
    "    miss = gpd.GeoDataFrame()\n",
    "    for idx, row in lookup.iterrows():\n",
    "        lake = lakes.ix[lakes.COMID == row.wbCOMID]\n",
    "        catbas = findUpstreamNpy(zone, int(row.catCOMID), DL_dir)\n",
    "        basin = cats.ix[cats.FEATUREID.isin(catbas)]\n",
    "        try: \n",
    "            diffgeom = lake['geometry'].difference(basin.unary_union.buffer(0))\n",
    "            pct = diffgeom.area / lake.area * 100\n",
    "            if pct.values[0] > 20:\n",
    "                lks = pd.concat([lks, lake])\n",
    "                bsn = pd.concat([bsn, basin])\n",
    "                miss = pd.concat([miss, gpd.GeoDataFrame(data={'COMID': row.wbCOMID,'PCT': pct}, geometry=diffgeom)])\n",
    "        except:\n",
    "            print row.wbCOMID\n",
    "            continue\n",
    "    lks.to_crs({'init' :'epsg:4326'}).to_file(\"%s/lks.json\" % DL_dir, driver=\"GeoJSON\")\n",
    "    bsn.to_crs({'init' :'epsg:4326'}).to_file(\"%s/bsn.json\" % DL_dir, driver=\"GeoJSON\")\n",
    "    miss.to_crs({'init' :'epsg:4326'}).to_file(\"%s/miss.json\" % DL_dir, driver=\"GeoJSON\")\n",
    "miss = gpd.GeoDataFrame.from_file(\"%s/miss.json\" % DL_dir).to_crs({'init' :'epsg:4326'})\n",
    "extent = miss.unary_union.bounds\n",
    "lat_Center = (extent[1] + extent[3]) / 2\n",
    "lon_Center = (extent[0] + extent[2]) / 2\n",
    "f_map=folium.Map(location=[lat_Center , lon_Center],zoom_start=6,tiles=\"Stamen Terrain\", control_scale=True)\n",
    "fg=folium.FeatureGroup(name=\"Lake Points\")\n",
    "for lat,lon,name,pct in zip(miss['geometry'].centroid.map(lambda p: p.y),miss['geometry'].centroid.map(lambda p: p.x),miss['COMID'],miss['PCT']):\n",
    "    html=\"\"\"\n",
    "    <p>NHD Waterbody <b>COMID</b>: %s</p><br>\n",
    "    <p>Percent uncovered: <b>%s %%</b></p>\n",
    "    \"\"\" % (int(name), pct)\n",
    "    iframe = folium.element.IFrame(html=html, width=300, height=120)\n",
    "    fg.add_child(folium.Marker(location=[lat,lon],popup=folium.Popup(iframe),\n",
    "                                   icon=folium.Icon(icon_color='white', color=color(pct)[0], icon=color(pct)[1])))\n",
    "    f_map.add_child(fg)\n",
    "f_map.add_child(folium.GeoJson(data=open('%s/lks.json' % DL_dir),\n",
    "                name='NHD Lake',\n",
    "                style_function=lambda x: {'fillColor':'blue', \n",
    "                                          'fill_opacity': 0.2, \n",
    "                                          'color':'none'}))\n",
    "f_map.add_child(folium.GeoJson(data=open('%s/bsn.json' % DL_dir),\n",
    "                name='Catchment Basin',\n",
    "                style_function=lambda x: {'fillColor':'grey', \n",
    "                                          'fill_opacity': 0.74,\n",
    "                                          'color':'white'}))\n",
    "f_map.add_child(folium.GeoJson(data=open('%s/miss.json' % DL_dir),\n",
    "                name='Missed Area',\n",
    "                style_function=lambda x: {'fillColor':'red', \n",
    "                                          'fill_opacity': 0.2, \n",
    "                                          'color':'none'}))\n",
    "f_map.add_child(folium.LayerControl())"
   ]
  },
  {
   "cell_type": "markdown",
   "metadata": {},
   "source": [
    "# Working out the details..."
   ]
  },
  {
   "cell_type": "code",
   "execution_count": null,
   "metadata": {
    "collapsed": true
   },
   "outputs": [],
   "source": [
    "# geopandas reads data from shapefile OR GeoJSON format into the geopandas.GeoDataFrame object\n",
    "lakes = gpd.GeoDataFrame.from_file(\"{}/NHDPlus16/NHDWaterbodies.shp\".format(DL_dir))"
   ]
  },
  {
   "cell_type": "code",
   "execution_count": null,
   "metadata": {
    "collapsed": false
   },
   "outputs": [],
   "source": [
    "print \"Number of records in lakes: {}\".format(len(lakes))  # get the number of records in the GeoDataFrame\n",
    "print \"Number of unique REACHCODEs: {}\".format(len(pd.unique(lakes.REACHCODE))) # or unique # of records\n",
    "lakes.head() # look at the first records of a GeoDataFrame, notice the 'geometry' column"
   ]
  },
  {
   "cell_type": "code",
   "execution_count": null,
   "metadata": {
    "collapsed": false
   },
   "outputs": [],
   "source": [
    "?gpd.GeoDataFrame.from_file() # bring up help on any object to find it's parameters"
   ]
  },
  {
   "cell_type": "code",
   "execution_count": null,
   "metadata": {
    "collapsed": false
   },
   "outputs": [],
   "source": [
    "?gpd.read_file() # the above method wraps this one. As you can see, we are using fiona to read in geometries"
   ]
  },
  {
   "cell_type": "code",
   "execution_count": null,
   "metadata": {
    "collapsed": false
   },
   "outputs": [],
   "source": [
    "# The geometry column holds the geometry in a shapely object\n",
    "type(lakes['geometry'])"
   ]
  },
  {
   "cell_type": "code",
   "execution_count": null,
   "metadata": {
    "collapsed": true
   },
   "outputs": [],
   "source": [
    "?gpd.geoseries.GeoSeries  # this tells us that the geometries are stored in shapely objects"
   ]
  },
  {
   "cell_type": "code",
   "execution_count": null,
   "metadata": {
    "collapsed": false
   },
   "outputs": [],
   "source": [
    "#Access the geometry of any shape in the GeoDataFrame\n",
    "type(lakes.ix[0].geometry) # check the type of the first record's geometry object"
   ]
  },
  {
   "cell_type": "code",
   "execution_count": null,
   "metadata": {
    "collapsed": false,
    "scrolled": true
   },
   "outputs": [],
   "source": [
    "# Access the Coordinate Reference System and easily reproject\n",
    "print str(lakes.crs)  + ' -- GCS_North_American_1983'\n",
    "lakes_albers = lakes.to_crs({'init' :'epsg:5070'})\n",
    "print str(lakes_albers.crs) + ' -- Albers_Equal_Area'"
   ]
  },
  {
   "cell_type": "code",
   "execution_count": null,
   "metadata": {
    "collapsed": false
   },
   "outputs": [],
   "source": [
    "lakes.plot() #plot all of the lakes in the GeoDataFrame"
   ]
  },
  {
   "cell_type": "code",
   "execution_count": null,
   "metadata": {
    "collapsed": false,
    "scrolled": true
   },
   "outputs": [],
   "source": [
    "lakes['geometry'].centroid.plot() #plot the centroids of all the lakes"
   ]
  },
  {
   "cell_type": "code",
   "execution_count": null,
   "metadata": {
    "collapsed": false,
    "scrolled": false
   },
   "outputs": [],
   "source": [
    "print type(lakes.FTYPE)  # other columns in the GeoDataFrame are pandas Series objects\n",
    "print lakes.FTYPE[0] # returns index in the series"
   ]
  },
  {
   "cell_type": "code",
   "execution_count": null,
   "metadata": {
    "collapsed": false,
    "scrolled": true
   },
   "outputs": [],
   "source": [
    "lakes.FTYPE.shape # there are many attributes to Series objects, check documentation for more"
   ]
  },
  {
   "cell_type": "code",
   "execution_count": null,
   "metadata": {
    "collapsed": false
   },
   "outputs": [],
   "source": [
    "print lakes.dtypes  #find all of the datatypes held in the GeoDataFrame"
   ]
  },
  {
   "cell_type": "code",
   "execution_count": null,
   "metadata": {
    "collapsed": false
   },
   "outputs": [],
   "source": [
    "print lakes.index.dtype #DataFrames are assigned an index that can be set\n",
    "print lakes.index\n",
    "lakes.set_index('COMID').tail(2) # you can specify the number of records returned in the head/tail method call"
   ]
  },
  {
   "cell_type": "code",
   "execution_count": null,
   "metadata": {
    "collapsed": false,
    "scrolled": true
   },
   "outputs": [],
   "source": [
    "cats = gpd.GeoDataFrame.from_file(\"{}/NHDPlus16/NHDCatchment.shp\".format(DL_dir))\n",
    "basin = cats.ix[cats.FEATUREID.isin(range(8915961,8915984,2))]\n",
    "print \"Max area catchment: %s SQKM\" % basin.AreaSqKM.max()\n",
    "print \"Min area catchment: %s SQKM\" % basin.AreaSqKM.min()\n",
    "print \"Mean area of all catchments: %s SQKM\" % basin.AreaSqKM.mean()\n",
    "print \"STD of all catchments: %s\" % basin.AreaSqKM.std()"
   ]
  },
  {
   "cell_type": "code",
   "execution_count": null,
   "metadata": {
    "collapsed": false,
    "scrolled": true
   },
   "outputs": [],
   "source": [
    "basin.sort_values('AreaSqKM',ascending=False) # sort the DF by an attribute"
   ]
  },
  {
   "cell_type": "code",
   "execution_count": null,
   "metadata": {
    "collapsed": false,
    "scrolled": true
   },
   "outputs": [],
   "source": [
    "lake = lakes.ix[lakes.COMID == 8914219] \n",
    "lake.plot(figsize=(3,3))"
   ]
  },
  {
   "cell_type": "code",
   "execution_count": null,
   "metadata": {
    "collapsed": false,
    "scrolled": true
   },
   "outputs": [],
   "source": [
    "basin.plot(column='AreaSqKM', cmap=\"brg\", figsize=(3,3))"
   ]
  },
  {
   "cell_type": "code",
   "execution_count": null,
   "metadata": {
    "collapsed": false
   },
   "outputs": [],
   "source": [
    "print lake.crs #these need to match for the plot to work below!\n",
    "print basin.crs"
   ]
  },
  {
   "cell_type": "code",
   "execution_count": null,
   "metadata": {
    "collapsed": true
   },
   "outputs": [],
   "source": [
    "#lake = lake.to_crs({'init': 'epsg:4269'}) # if they are different above, reproject..."
   ]
  },
  {
   "cell_type": "code",
   "execution_count": null,
   "metadata": {
    "collapsed": false
   },
   "outputs": [],
   "source": [
    "import matplotlib.pyplot as plt\n",
    "#plt.style.use(\"default\")\n",
    "fig, ax = plt.subplots(1, figsize=(3,3))\n",
    "base = lake.plot(ax=ax, color='blue')\n",
    "basin.plot(ax=base, color='red') #\n",
    "ax.axis('off')\n",
    "ax.set_title(\"Plot of Lake with Catchment\")"
   ]
  },
  {
   "cell_type": "code",
   "execution_count": null,
   "metadata": {
    "collapsed": false,
    "scrolled": true
   },
   "outputs": [],
   "source": [
    "lakes.loc[lakes['COMID'] == 4562850] # all of these methods can be used to lookup records\n",
    "lakes.ix[lakes.COMID == 4562850]\n",
    "lakes.ix[lakes.COMID.isin([4562850])]\n",
    "lakes.query(\"COMID == 4562850\")"
   ]
  },
  {
   "cell_type": "code",
   "execution_count": null,
   "metadata": {
    "collapsed": true
   },
   "outputs": [],
   "source": [
    "lakes.query?"
   ]
  },
  {
   "cell_type": "code",
   "execution_count": null,
   "metadata": {
    "collapsed": false,
    "scrolled": true
   },
   "outputs": [],
   "source": [
    "print type(basin['geometry'])\n",
    "print type(basin.ix[1990].geometry) # get the geometry type..Point/LineString/Polygon\n",
    "print basin.ix[1990].geometry.area\n",
    "print basin.ix[1990].geometry.length\n",
    "basin_albers = basin.to_crs({'init' :'epsg:5070'})  #convert to Albers_Equal_Area crs for output in meters\n",
    "print basin_albers.ix[1990].geometry.area\n",
    "print basin_albers.ix[1990].geometry.length"
   ]
  },
  {
   "cell_type": "code",
   "execution_count": null,
   "metadata": {
    "collapsed": false
   },
   "outputs": [],
   "source": [
    "type(lakes.unary_union.centroid)  # centroid attribute of Polygon is Point "
   ]
  },
  {
   "cell_type": "code",
   "execution_count": null,
   "metadata": {
    "collapsed": false
   },
   "outputs": [],
   "source": [
    "center_point = lakes.to_crs({'init' :'epsg:4326'}).unary_union.buffer(0).centroid\n",
    "print center_point.x  # this is one way to use to center all of the data in the map\n",
    "print center_point.y  # make sure that you are in a Geographic projection to get lat/lon"
   ]
  },
  {
   "cell_type": "code",
   "execution_count": null,
   "metadata": {
    "collapsed": false
   },
   "outputs": [],
   "source": [
    "print miss.unary_union.bounds # Another way to get to the center of your data\n",
    "extent = miss.unary_union.bounds\n",
    "lat_Center = (extent[1] + extent[3]) / 2\n",
    "lon_Center = (extent[0] + extent[2]) / 2"
   ]
  },
  {
   "cell_type": "code",
   "execution_count": null,
   "metadata": {
    "collapsed": false
   },
   "outputs": [],
   "source": [
    "miss.columns # use COMID in popup / and PCT for color and icon format"
   ]
  },
  {
   "cell_type": "code",
   "execution_count": null,
   "metadata": {
    "collapsed": true
   },
   "outputs": [],
   "source": [
    "def color(pct):  # this function returns values for the folium.Icon() object for color and icon type\n",
    "    if pct <= 50:  # based on the value of 'pct' of coverage\n",
    "        col=('green','ok')\n",
    "    elif 50 < pct <= 75:\n",
    "        col=('blue','remove')\n",
    "    elif pct > 75:\n",
    "        col=('darkred','ban-circle')\n",
    "    return col  "
   ]
  },
  {
   "cell_type": "code",
   "execution_count": null,
   "metadata": {
    "collapsed": false
   },
   "outputs": [],
   "source": [
    "folium.Icon?"
   ]
  },
  {
   "cell_type": "code",
   "execution_count": null,
   "metadata": {
    "collapsed": false
   },
   "outputs": [],
   "source": [
    "folium.Map?"
   ]
  },
  {
   "cell_type": "code",
   "execution_count": null,
   "metadata": {
    "collapsed": false,
    "scrolled": false
   },
   "outputs": [],
   "source": [
    "f_map=folium.Map(location=[lat_Center , lon_Center],zoom_start=6,tiles=\"Stamen Terrain\", control_scale=True)\n",
    "fg=folium.FeatureGroup(name=\"Lake Points\")\n",
    "for lat,lon,name,pct in zip(miss['geometry'].centroid.map(lambda p: p.y),miss['geometry'].centroid.map(lambda p: p.x),miss['COMID'],miss['PCT']):    \n",
    "    fg.add_child(folium.Marker(location=[lat,lon],popup=\"NHD Waterbody COMID: %s\" % int(name),\n",
    "                                   icon=folium.Icon(icon_color='white', color=color(pct)[0], icon=color(pct)[1])))\n",
    "f_map.add_child(fg)\n",
    "f_map.add_child(folium.GeoJson(data=open('%s/lks.json' % DL_dir),\n",
    "                name='NHD Lake',\n",
    "                style_function=lambda x: {'fillColor':'blue', \n",
    "                                          'fill_opacity': 0.2, \n",
    "                                          'color':'none'}))\n",
    "f_map.add_child(folium.GeoJson(data=open('%s/bsn.json' % DL_dir),\n",
    "                name='Catchment Basin',\n",
    "                style_function=lambda x: {'fillColor':'grey', \n",
    "                                          'fill_opacity': 0.74,\n",
    "                                          'color':'white'}))\n",
    "f_map.add_child(folium.GeoJson(data=open('%s/miss.json' % DL_dir),\n",
    "                name='Missed Area',\n",
    "                style_function=lambda x: {'fillColor':'red', \n",
    "                                          'fill_opacity': 0.2, \n",
    "                                          'color':'none'}))\n",
    "f_map.add_child(folium.LayerControl())"
   ]
  },
  {
   "cell_type": "code",
   "execution_count": null,
   "metadata": {
    "collapsed": true
   },
   "outputs": [],
   "source": [
    "f_map.save(outfile='%s/f_map.html' % DL_dir)"
   ]
  },
  {
   "cell_type": "markdown",
   "metadata": {},
   "source": [
    "## Links to icons to use with markers\n",
    "* [FontAwesome](http://fontawesome.io/icons/)\n",
    "* [GlyphIcons](http://glyphicons.bootstrapcheatsheets.com/)"
   ]
  },
  {
   "cell_type": "markdown",
   "metadata": {
    "collapsed": true
   },
   "source": [
    "## Here is the map of all lakes with > 50% coverage\n",
    "* # [All Over 50](http://debboutr.github.io/tot_1.html)"
   ]
  },
  {
   "cell_type": "markdown",
   "metadata": {},
   "source": [
    "## [Notebook](https://anaconda.org/debboutr/lightning/notebook) of bokeh package\n",
    "* # [Calapooia](http://debboutr.github.io/Calapooia_PolyCats.html)\n",
    "* # [DC Road Density](http://debboutr.github.io/DC_Plot_rdDens.html)"
   ]
  },
  {
   "cell_type": "code",
   "execution_count": null,
   "metadata": {
    "collapsed": false
   },
   "outputs": [],
   "source": [
    "print type(lakes.ix[0].geometry)\n",
    "list(lakes.ix[0].geometry.exterior.coords)"
   ]
  },
  {
   "cell_type": "code",
   "execution_count": null,
   "metadata": {
    "collapsed": false
   },
   "outputs": [],
   "source": []
  },
  {
   "cell_type": "markdown",
   "metadata": {},
   "source": [
    "### Useful python commands when navigating environments"
   ]
  },
  {
   "cell_type": "code",
   "execution_count": null,
   "metadata": {
    "collapsed": false
   },
   "outputs": [],
   "source": [
    "import sys\n",
    "print sys.prefix\n",
    "print sys.executable\n",
    "import os\n",
    "print os.getcwd()"
   ]
  }
 ],
 "metadata": {
  "anaconda-cloud": {},
  "kernelspec": {
   "display_name": "Python [default]",
   "language": "python",
   "name": "python2"
  },
  "language_info": {
   "codemirror_mode": {
    "name": "ipython",
    "version": 2
   },
   "file_extension": ".py",
   "mimetype": "text/x-python",
   "name": "python",
   "nbconvert_exporter": "python",
   "pygments_lexer": "ipython2",
   "version": "2.7.12"
  }
 },
 "nbformat": 4,
 "nbformat_minor": 0
}
