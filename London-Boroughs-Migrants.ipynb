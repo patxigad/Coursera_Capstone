{
 "cells": [
  {
   "cell_type": "markdown",
   "metadata": {},
   "source": [
    "# London Boroughs Population (Analysis on migration and post-Brexit potential impact)\n",
    "It is well-known that the UK is going to leave the EU shortly. London is a multicultural city with a wide variety nationalities. Some of those nationalities have gathered in certain areas. Brexit is not going to affect the people that are already living in the UK. However, I would like to analyse the composition of the different boroughs in London looking at the migrant population and businesses and hypothesise with a potential hard brexit that forces all migrants to leave the country.\n",
    "\n",
    "Data Sources\n",
    "https://data.london.gov.uk/census/themes/migrant-population/"
   ]
  },
  {
   "cell_type": "code",
   "execution_count": null,
   "metadata": {},
   "outputs": [],
   "source": []
  }
 ],
 "metadata": {
  "kernelspec": {
   "display_name": "Python 3",
   "language": "python",
   "name": "python3"
  },
  "language_info": {
   "codemirror_mode": {
    "name": "ipython",
    "version": 3
   },
   "file_extension": ".py",
   "mimetype": "text/x-python",
   "name": "python",
   "nbconvert_exporter": "python",
   "pygments_lexer": "ipython3",
   "version": "3.7.1"
  }
 },
 "nbformat": 4,
 "nbformat_minor": 2
}
